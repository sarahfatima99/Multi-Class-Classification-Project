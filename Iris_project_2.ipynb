{
 "cells": [
  {
   "cell_type": "markdown",
   "metadata": {
    "colab_type": "text",
    "id": "gpkPdS4hzj62"
   },
   "source": [
    "# **Import All Libraries using in this project**"
   ]
  },
  {
   "cell_type": "code",
   "execution_count": 3,
   "metadata": {
    "colab": {
     "base_uri": "https://localhost:8080/",
     "height": 35
    },
    "colab_type": "code",
    "id": "X49a7sF2O9K4",
    "outputId": "da3f3145-f37c-4d6a-9e7d-7d93e58509fe"
   },
   "outputs": [
    {
     "name": "stderr",
     "output_type": "stream",
     "text": [
      "Using TensorFlow backend.\n"
     ]
    }
   ],
   "source": [
    "import numpy as np\n",
    "import pandas as pd\n",
    "from keras.models import Sequential\n",
    "from keras.layers import Dense\n",
    "from keras.wrappers.scikit_learn import KerasClassifier\n",
    "from keras.utils import np_utils\n",
    "from sklearn.model_selection import cross_val_score\n",
    "from sklearn.preprocessing import LabelEncoder\n",
    "from sklearn.model_selection import KFold\n",
    "from sklearn.pipeline import Pipeline"
   ]
  },
  {
   "cell_type": "code",
   "execution_count": 4,
   "metadata": {
    "colab": {},
    "colab_type": "code",
    "id": "xHy63Jf6SBe4"
   },
   "outputs": [],
   "source": [
    "seed = 7\n",
    "np.random.seed(seed)\n"
   ]
  },
  {
   "cell_type": "markdown",
   "metadata": {
    "colab_type": "text",
    "id": "OnP7Sm4Szydi"
   },
   "source": [
    "# **Upload csv file using pandas from local computer storage and show the data**"
   ]
  },
  {
   "cell_type": "code",
   "execution_count": 8,
   "metadata": {
    "colab": {
     "base_uri": "https://localhost:8080/",
     "height": 2025,
     "resources": {
      "http://localhost:8080/nbextensions/google.colab/files.js": {
       "data": "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",
       "headers": [
        [
         "content-type",
         "application/javascript"
        ]
       ],
       "ok": true,
       "status": 200,
       "status_text": ""
      }
     }
    },
    "colab_type": "code",
    "id": "BwfvCp4ASSuE",
    "outputId": "f7ab8539-e17b-421a-ea90-14adebf053ec"
   },
   "outputs": [
    {
     "ename": "FileNotFoundError",
     "evalue": "File b'iris.csv' does not exist",
     "output_type": "error",
     "traceback": [
      "\u001b[1;31m---------------------------------------------------------------------------\u001b[0m",
      "\u001b[1;31mFileNotFoundError\u001b[0m                         Traceback (most recent call last)",
      "\u001b[1;32m<ipython-input-8-0f7541920b5a>\u001b[0m in \u001b[0;36m<module>\u001b[1;34m\u001b[0m\n\u001b[0;32m      1\u001b[0m \u001b[1;32mimport\u001b[0m \u001b[0mio\u001b[0m\u001b[1;33m\u001b[0m\u001b[1;33m\u001b[0m\u001b[0m\n\u001b[1;32m----> 2\u001b[1;33m \u001b[0mdf\u001b[0m \u001b[1;33m=\u001b[0m \u001b[0mpd\u001b[0m\u001b[1;33m.\u001b[0m\u001b[0mread_csv\u001b[0m\u001b[1;33m(\u001b[0m\u001b[1;33m(\u001b[0m\u001b[1;34m'iris.csv'\u001b[0m\u001b[1;33m)\u001b[0m \u001b[1;33m,\u001b[0m \u001b[0mheader\u001b[0m \u001b[1;33m=\u001b[0m \u001b[1;32mNone\u001b[0m\u001b[1;33m)\u001b[0m\u001b[1;33m\u001b[0m\u001b[1;33m\u001b[0m\u001b[0m\n\u001b[0m\u001b[0;32m      3\u001b[0m \u001b[0mdf\u001b[0m\u001b[1;33m\u001b[0m\u001b[1;33m\u001b[0m\u001b[0m\n",
      "\u001b[1;32m~\\Anaconda3\\lib\\site-packages\\pandas\\io\\parsers.py\u001b[0m in \u001b[0;36mparser_f\u001b[1;34m(filepath_or_buffer, sep, delimiter, header, names, index_col, usecols, squeeze, prefix, mangle_dupe_cols, dtype, engine, converters, true_values, false_values, skipinitialspace, skiprows, nrows, na_values, keep_default_na, na_filter, verbose, skip_blank_lines, parse_dates, infer_datetime_format, keep_date_col, date_parser, dayfirst, iterator, chunksize, compression, thousands, decimal, lineterminator, quotechar, quoting, escapechar, comment, encoding, dialect, tupleize_cols, error_bad_lines, warn_bad_lines, skipfooter, doublequote, delim_whitespace, low_memory, memory_map, float_precision)\u001b[0m\n\u001b[0;32m    676\u001b[0m                     skip_blank_lines=skip_blank_lines)\n\u001b[0;32m    677\u001b[0m \u001b[1;33m\u001b[0m\u001b[0m\n\u001b[1;32m--> 678\u001b[1;33m         \u001b[1;32mreturn\u001b[0m \u001b[0m_read\u001b[0m\u001b[1;33m(\u001b[0m\u001b[0mfilepath_or_buffer\u001b[0m\u001b[1;33m,\u001b[0m \u001b[0mkwds\u001b[0m\u001b[1;33m)\u001b[0m\u001b[1;33m\u001b[0m\u001b[1;33m\u001b[0m\u001b[0m\n\u001b[0m\u001b[0;32m    679\u001b[0m \u001b[1;33m\u001b[0m\u001b[0m\n\u001b[0;32m    680\u001b[0m     \u001b[0mparser_f\u001b[0m\u001b[1;33m.\u001b[0m\u001b[0m__name__\u001b[0m \u001b[1;33m=\u001b[0m \u001b[0mname\u001b[0m\u001b[1;33m\u001b[0m\u001b[1;33m\u001b[0m\u001b[0m\n",
      "\u001b[1;32m~\\Anaconda3\\lib\\site-packages\\pandas\\io\\parsers.py\u001b[0m in \u001b[0;36m_read\u001b[1;34m(filepath_or_buffer, kwds)\u001b[0m\n\u001b[0;32m    438\u001b[0m \u001b[1;33m\u001b[0m\u001b[0m\n\u001b[0;32m    439\u001b[0m     \u001b[1;31m# Create the parser.\u001b[0m\u001b[1;33m\u001b[0m\u001b[1;33m\u001b[0m\u001b[1;33m\u001b[0m\u001b[0m\n\u001b[1;32m--> 440\u001b[1;33m     \u001b[0mparser\u001b[0m \u001b[1;33m=\u001b[0m \u001b[0mTextFileReader\u001b[0m\u001b[1;33m(\u001b[0m\u001b[0mfilepath_or_buffer\u001b[0m\u001b[1;33m,\u001b[0m \u001b[1;33m**\u001b[0m\u001b[0mkwds\u001b[0m\u001b[1;33m)\u001b[0m\u001b[1;33m\u001b[0m\u001b[1;33m\u001b[0m\u001b[0m\n\u001b[0m\u001b[0;32m    441\u001b[0m \u001b[1;33m\u001b[0m\u001b[0m\n\u001b[0;32m    442\u001b[0m     \u001b[1;32mif\u001b[0m \u001b[0mchunksize\u001b[0m \u001b[1;32mor\u001b[0m \u001b[0miterator\u001b[0m\u001b[1;33m:\u001b[0m\u001b[1;33m\u001b[0m\u001b[1;33m\u001b[0m\u001b[0m\n",
      "\u001b[1;32m~\\Anaconda3\\lib\\site-packages\\pandas\\io\\parsers.py\u001b[0m in \u001b[0;36m__init__\u001b[1;34m(self, f, engine, **kwds)\u001b[0m\n\u001b[0;32m    785\u001b[0m             \u001b[0mself\u001b[0m\u001b[1;33m.\u001b[0m\u001b[0moptions\u001b[0m\u001b[1;33m[\u001b[0m\u001b[1;34m'has_index_names'\u001b[0m\u001b[1;33m]\u001b[0m \u001b[1;33m=\u001b[0m \u001b[0mkwds\u001b[0m\u001b[1;33m[\u001b[0m\u001b[1;34m'has_index_names'\u001b[0m\u001b[1;33m]\u001b[0m\u001b[1;33m\u001b[0m\u001b[1;33m\u001b[0m\u001b[0m\n\u001b[0;32m    786\u001b[0m \u001b[1;33m\u001b[0m\u001b[0m\n\u001b[1;32m--> 787\u001b[1;33m         \u001b[0mself\u001b[0m\u001b[1;33m.\u001b[0m\u001b[0m_make_engine\u001b[0m\u001b[1;33m(\u001b[0m\u001b[0mself\u001b[0m\u001b[1;33m.\u001b[0m\u001b[0mengine\u001b[0m\u001b[1;33m)\u001b[0m\u001b[1;33m\u001b[0m\u001b[1;33m\u001b[0m\u001b[0m\n\u001b[0m\u001b[0;32m    788\u001b[0m \u001b[1;33m\u001b[0m\u001b[0m\n\u001b[0;32m    789\u001b[0m     \u001b[1;32mdef\u001b[0m \u001b[0mclose\u001b[0m\u001b[1;33m(\u001b[0m\u001b[0mself\u001b[0m\u001b[1;33m)\u001b[0m\u001b[1;33m:\u001b[0m\u001b[1;33m\u001b[0m\u001b[1;33m\u001b[0m\u001b[0m\n",
      "\u001b[1;32m~\\Anaconda3\\lib\\site-packages\\pandas\\io\\parsers.py\u001b[0m in \u001b[0;36m_make_engine\u001b[1;34m(self, engine)\u001b[0m\n\u001b[0;32m   1012\u001b[0m     \u001b[1;32mdef\u001b[0m \u001b[0m_make_engine\u001b[0m\u001b[1;33m(\u001b[0m\u001b[0mself\u001b[0m\u001b[1;33m,\u001b[0m \u001b[0mengine\u001b[0m\u001b[1;33m=\u001b[0m\u001b[1;34m'c'\u001b[0m\u001b[1;33m)\u001b[0m\u001b[1;33m:\u001b[0m\u001b[1;33m\u001b[0m\u001b[1;33m\u001b[0m\u001b[0m\n\u001b[0;32m   1013\u001b[0m         \u001b[1;32mif\u001b[0m \u001b[0mengine\u001b[0m \u001b[1;33m==\u001b[0m \u001b[1;34m'c'\u001b[0m\u001b[1;33m:\u001b[0m\u001b[1;33m\u001b[0m\u001b[1;33m\u001b[0m\u001b[0m\n\u001b[1;32m-> 1014\u001b[1;33m             \u001b[0mself\u001b[0m\u001b[1;33m.\u001b[0m\u001b[0m_engine\u001b[0m \u001b[1;33m=\u001b[0m \u001b[0mCParserWrapper\u001b[0m\u001b[1;33m(\u001b[0m\u001b[0mself\u001b[0m\u001b[1;33m.\u001b[0m\u001b[0mf\u001b[0m\u001b[1;33m,\u001b[0m \u001b[1;33m**\u001b[0m\u001b[0mself\u001b[0m\u001b[1;33m.\u001b[0m\u001b[0moptions\u001b[0m\u001b[1;33m)\u001b[0m\u001b[1;33m\u001b[0m\u001b[1;33m\u001b[0m\u001b[0m\n\u001b[0m\u001b[0;32m   1015\u001b[0m         \u001b[1;32melse\u001b[0m\u001b[1;33m:\u001b[0m\u001b[1;33m\u001b[0m\u001b[1;33m\u001b[0m\u001b[0m\n\u001b[0;32m   1016\u001b[0m             \u001b[1;32mif\u001b[0m \u001b[0mengine\u001b[0m \u001b[1;33m==\u001b[0m \u001b[1;34m'python'\u001b[0m\u001b[1;33m:\u001b[0m\u001b[1;33m\u001b[0m\u001b[1;33m\u001b[0m\u001b[0m\n",
      "\u001b[1;32m~\\Anaconda3\\lib\\site-packages\\pandas\\io\\parsers.py\u001b[0m in \u001b[0;36m__init__\u001b[1;34m(self, src, **kwds)\u001b[0m\n\u001b[0;32m   1706\u001b[0m         \u001b[0mkwds\u001b[0m\u001b[1;33m[\u001b[0m\u001b[1;34m'usecols'\u001b[0m\u001b[1;33m]\u001b[0m \u001b[1;33m=\u001b[0m \u001b[0mself\u001b[0m\u001b[1;33m.\u001b[0m\u001b[0musecols\u001b[0m\u001b[1;33m\u001b[0m\u001b[1;33m\u001b[0m\u001b[0m\n\u001b[0;32m   1707\u001b[0m \u001b[1;33m\u001b[0m\u001b[0m\n\u001b[1;32m-> 1708\u001b[1;33m         \u001b[0mself\u001b[0m\u001b[1;33m.\u001b[0m\u001b[0m_reader\u001b[0m \u001b[1;33m=\u001b[0m \u001b[0mparsers\u001b[0m\u001b[1;33m.\u001b[0m\u001b[0mTextReader\u001b[0m\u001b[1;33m(\u001b[0m\u001b[0msrc\u001b[0m\u001b[1;33m,\u001b[0m \u001b[1;33m**\u001b[0m\u001b[0mkwds\u001b[0m\u001b[1;33m)\u001b[0m\u001b[1;33m\u001b[0m\u001b[1;33m\u001b[0m\u001b[0m\n\u001b[0m\u001b[0;32m   1709\u001b[0m \u001b[1;33m\u001b[0m\u001b[0m\n\u001b[0;32m   1710\u001b[0m         \u001b[0mpassed_names\u001b[0m \u001b[1;33m=\u001b[0m \u001b[0mself\u001b[0m\u001b[1;33m.\u001b[0m\u001b[0mnames\u001b[0m \u001b[1;32mis\u001b[0m \u001b[1;32mNone\u001b[0m\u001b[1;33m\u001b[0m\u001b[1;33m\u001b[0m\u001b[0m\n",
      "\u001b[1;32mpandas\\_libs\\parsers.pyx\u001b[0m in \u001b[0;36mpandas._libs.parsers.TextReader.__cinit__\u001b[1;34m()\u001b[0m\n",
      "\u001b[1;32mpandas\\_libs\\parsers.pyx\u001b[0m in \u001b[0;36mpandas._libs.parsers.TextReader._setup_parser_source\u001b[1;34m()\u001b[0m\n",
      "\u001b[1;31mFileNotFoundError\u001b[0m: File b'iris.csv' does not exist"
     ]
    }
   ],
   "source": [
    "import io\n",
    "df = pd.read_csv(('iris.csv') , header = None)\n",
    "df"
   ]
  },
  {
   "cell_type": "markdown",
   "metadata": {
    "colab_type": "text",
    "id": "PSjLTAhSz4Fw"
   },
   "source": [
    "# **Convert the data into numpy and print 1st row , dimensions , shape and type of data**"
   ]
  },
  {
   "cell_type": "code",
   "execution_count": 0,
   "metadata": {
    "colab": {
     "base_uri": "https://localhost:8080/",
     "height": 89
    },
    "colab_type": "code",
    "id": "XXO1ZdxZTTyW",
    "outputId": "c9e61eaa-8031-4ace-de71-eb37da50bc36"
   },
   "outputs": [
    {
     "name": "stdout",
     "output_type": "stream",
     "text": [
      "[5.1 3.5 1.4 0.2 'Iris-setosa']\n",
      "2\n",
      "(150, 5)\n",
      "<class 'numpy.ndarray'>\n"
     ]
    }
   ],
   "source": [
    "dataset = df.values\n",
    "print(dataset[0])\n",
    "print(dataset.ndim)\n",
    "print(dataset.shape)\n",
    "print(type(dataset))"
   ]
  },
  {
   "cell_type": "markdown",
   "metadata": {
    "colab_type": "text",
    "id": "M8sB5Fpl0AoP"
   },
   "source": [
    "# **Split and print samples and labes and their shapes**"
   ]
  },
  {
   "cell_type": "code",
   "execution_count": 0,
   "metadata": {
    "colab": {
     "base_uri": "https://localhost:8080/",
     "height": 701
    },
    "colab_type": "code",
    "id": "OpC-MBbGTT27",
    "outputId": "91e02682-4e1f-42eb-84f2-ed4532df5b41"
   },
   "outputs": [
    {
     "name": "stdout",
     "output_type": "stream",
     "text": [
      "[5.1 3.5 1.4 0.2]\n",
      "['Iris-setosa' 'Iris-setosa' 'Iris-setosa' 'Iris-setosa' 'Iris-setosa'\n",
      " 'Iris-setosa' 'Iris-setosa' 'Iris-setosa' 'Iris-setosa' 'Iris-setosa'\n",
      " 'Iris-setosa' 'Iris-setosa' 'Iris-setosa' 'Iris-setosa' 'Iris-setosa'\n",
      " 'Iris-setosa' 'Iris-setosa' 'Iris-setosa' 'Iris-setosa' 'Iris-setosa'\n",
      " 'Iris-setosa' 'Iris-setosa' 'Iris-setosa' 'Iris-setosa' 'Iris-setosa'\n",
      " 'Iris-setosa' 'Iris-setosa' 'Iris-setosa' 'Iris-setosa' 'Iris-setosa'\n",
      " 'Iris-setosa' 'Iris-setosa' 'Iris-setosa' 'Iris-setosa' 'Iris-setosa'\n",
      " 'Iris-setosa' 'Iris-setosa' 'Iris-setosa' 'Iris-setosa' 'Iris-setosa'\n",
      " 'Iris-setosa' 'Iris-setosa' 'Iris-setosa' 'Iris-setosa' 'Iris-setosa'\n",
      " 'Iris-setosa' 'Iris-setosa' 'Iris-setosa' 'Iris-setosa' 'Iris-setosa'\n",
      " 'Iris-versicolor' 'Iris-versicolor' 'Iris-versicolor' 'Iris-versicolor'\n",
      " 'Iris-versicolor' 'Iris-versicolor' 'Iris-versicolor' 'Iris-versicolor'\n",
      " 'Iris-versicolor' 'Iris-versicolor' 'Iris-versicolor' 'Iris-versicolor'\n",
      " 'Iris-versicolor' 'Iris-versicolor' 'Iris-versicolor' 'Iris-versicolor'\n",
      " 'Iris-versicolor' 'Iris-versicolor' 'Iris-versicolor' 'Iris-versicolor'\n",
      " 'Iris-versicolor' 'Iris-versicolor' 'Iris-versicolor' 'Iris-versicolor'\n",
      " 'Iris-versicolor' 'Iris-versicolor' 'Iris-versicolor' 'Iris-versicolor'\n",
      " 'Iris-versicolor' 'Iris-versicolor' 'Iris-versicolor' 'Iris-versicolor'\n",
      " 'Iris-versicolor' 'Iris-versicolor' 'Iris-versicolor' 'Iris-versicolor'\n",
      " 'Iris-versicolor' 'Iris-versicolor' 'Iris-versicolor' 'Iris-versicolor'\n",
      " 'Iris-versicolor' 'Iris-versicolor' 'Iris-versicolor' 'Iris-versicolor'\n",
      " 'Iris-versicolor' 'Iris-versicolor' 'Iris-versicolor' 'Iris-versicolor'\n",
      " 'Iris-versicolor' 'Iris-versicolor' 'Iris-virginica' 'Iris-virginica'\n",
      " 'Iris-virginica' 'Iris-virginica' 'Iris-virginica' 'Iris-virginica'\n",
      " 'Iris-virginica' 'Iris-virginica' 'Iris-virginica' 'Iris-virginica'\n",
      " 'Iris-virginica' 'Iris-virginica' 'Iris-virginica' 'Iris-virginica'\n",
      " 'Iris-virginica' 'Iris-virginica' 'Iris-virginica' 'Iris-virginica'\n",
      " 'Iris-virginica' 'Iris-virginica' 'Iris-virginica' 'Iris-virginica'\n",
      " 'Iris-virginica' 'Iris-virginica' 'Iris-virginica' 'Iris-virginica'\n",
      " 'Iris-virginica' 'Iris-virginica' 'Iris-virginica' 'Iris-virginica'\n",
      " 'Iris-virginica' 'Iris-virginica' 'Iris-virginica' 'Iris-virginica'\n",
      " 'Iris-virginica' 'Iris-virginica' 'Iris-virginica' 'Iris-virginica'\n",
      " 'Iris-virginica' 'Iris-virginica' 'Iris-virginica' 'Iris-virginica'\n",
      " 'Iris-virginica' 'Iris-virginica' 'Iris-virginica' 'Iris-virginica'\n",
      " 'Iris-virginica' 'Iris-virginica' 'Iris-virginica' 'Iris-virginica']\n",
      "(150, 4)\n",
      "(150,)\n"
     ]
    }
   ],
   "source": [
    "x = dataset[:,0:4].astype(float)\n",
    "y = dataset[:,4]\n",
    "print(x[0])\n",
    "print(y)\n",
    "print(x.shape)\n",
    "print(y.shape)"
   ]
  },
  {
   "cell_type": "markdown",
   "metadata": {
    "colab_type": "text",
    "id": "BbQ4bljK0Nnz"
   },
   "source": [
    "# **Encode the string labels into binary digits 0 for Mines and 1 for Rock using sciket learn LabelEncoder()**"
   ]
  },
  {
   "cell_type": "code",
   "execution_count": 0,
   "metadata": {
    "colab": {
     "base_uri": "https://localhost:8080/",
     "height": 107
    },
    "colab_type": "code",
    "id": "ejihfaIsUEr3",
    "outputId": "e76bc84c-cbbd-495e-e1ce-d1009ce72a78"
   },
   "outputs": [
    {
     "data": {
      "text/plain": [
       "array([[1., 0., 0.],\n",
       "       [1., 0., 0.],\n",
       "       [1., 0., 0.],\n",
       "       [1., 0., 0.],\n",
       "       [1., 0., 0.]], dtype=float32)"
      ]
     },
     "execution_count": 6,
     "metadata": {
      "tags": []
     },
     "output_type": "execute_result"
    }
   ],
   "source": [
    "encoder = LabelEncoder()\n",
    "encoder.fit(y)\n",
    "encoded_y = encoder.transform(y)\n",
    "dummy_y = np_utils.to_categorical(encoded_y)\n",
    "dummy_y[0:5]"
   ]
  },
  {
   "cell_type": "markdown",
   "metadata": {
    "colab_type": "text",
    "id": "vobNX5vx0Zdg"
   },
   "source": [
    "# **Create a baseline model using Sequential**"
   ]
  },
  {
   "cell_type": "code",
   "execution_count": 0,
   "metadata": {
    "colab": {},
    "colab_type": "code",
    "id": "KchHiusQUpAN"
   },
   "outputs": [],
   "source": [
    "from keras import optimizers\n",
    "def baseline_model():\n",
    "  baseline_network = Sequential()\n",
    "  baseline_network.add(Dense(8, activation='relu', input_shape=(4,)))\n",
    "  baseline_network.add(Dense(3, activation='softmax'))\n",
    "  baseline_network.compile(optimizer= optimizers.Adam(lr=0.001, beta_1=0.9, beta_2=0.999, epsilon=1e-8), loss='categorical_crossentropy' , metrics=[\"accuracy\"])\n",
    "  return baseline_network\n",
    "  "
   ]
  },
  {
   "cell_type": "markdown",
   "metadata": {
    "colab_type": "text",
    "id": "aXkRh_1w0htk"
   },
   "source": [
    "# **Run the model**"
   ]
  },
  {
   "cell_type": "code",
   "execution_count": 0,
   "metadata": {
    "colab": {
     "base_uri": "https://localhost:8080/",
     "height": 35
    },
    "colab_type": "code",
    "id": "oM64bepscmBK",
    "outputId": "a488e40e-bcf5-4725-fc53-eab258858f69"
   },
   "outputs": [
    {
     "name": "stdout",
     "output_type": "stream",
     "text": [
      "Accuracy: 97.333333%(4.422166%)\n"
     ]
    }
   ],
   "source": [
    "estimator = KerasClassifier(build_fn = baseline_model , epochs = 200 , batch_size = 5 , verbose = 0 )\n",
    "kfold = KFold(n_splits = 10 , shuffle = True , random_state = seed)\n",
    "results = cross_val_score(estimator , x , dummy_y , cv = kfold)\n",
    "print(\"Accuracy: %2f%%(%2f%%)\"%(results.mean()*100,results.std()*100))"
   ]
  },
  {
   "cell_type": "markdown",
   "metadata": {
    "colab_type": "text",
    "id": "j2KwbJuF1EzU"
   },
   "source": [
    "# **Now tuning the layes and build smaller network**"
   ]
  },
  {
   "cell_type": "code",
   "execution_count": 0,
   "metadata": {
    "colab": {},
    "colab_type": "code",
    "id": "Sqvcaoj4LZ3_"
   },
   "outputs": [],
   "source": [
    "from keras import optimizers\n",
    "def small_model():\n",
    "  small_network = Sequential()\n",
    "  small_network.add(Dense(6, activation='relu', input_shape=(4,)))\n",
    "  small_network.add(Dense(3, activation='softmax'))\n",
    "  small_network.compile(optimizer= optimizers.Adam(lr=0.001, beta_1=0.9, beta_2=0.999, epsilon=1e-8), loss='categorical_crossentropy' , metrics=[\"accuracy\"])\n",
    "  return small_network\n",
    "  "
   ]
  },
  {
   "cell_type": "markdown",
   "metadata": {
    "colab_type": "text",
    "id": "wozRHe-t1Irq"
   },
   "source": [
    "# **Run the model**"
   ]
  },
  {
   "cell_type": "code",
   "execution_count": 0,
   "metadata": {
    "colab": {
     "base_uri": "https://localhost:8080/",
     "height": 35
    },
    "colab_type": "code",
    "id": "5lUrv64RLaGs",
    "outputId": "0d295865-6984-4396-b9c2-669174cb6600"
   },
   "outputs": [
    {
     "name": "stdout",
     "output_type": "stream",
     "text": [
      "Small_Accuracy: 95.333334%(5.206833%)\n"
     ]
    }
   ],
   "source": [
    "estimator = KerasClassifier(build_fn = small_model , epochs = 100 , batch_size = 5 , verbose = 0 )\n",
    "kfold = KFold(n_splits = 10 , shuffle = True , random_state = seed)\n",
    "results = cross_val_score(estimator , x , dummy_y , cv = kfold)\n",
    "print(\"Small_Accuracy: %2f%%(%2f%%)\"%(results.mean()*100,results.std()*100))"
   ]
  },
  {
   "cell_type": "markdown",
   "metadata": {
    "colab_type": "text",
    "id": "3Q0i17gH1Ru7"
   },
   "source": [
    "# **Now add two more layer and create larger network**"
   ]
  },
  {
   "cell_type": "code",
   "execution_count": 0,
   "metadata": {
    "colab": {},
    "colab_type": "code",
    "id": "SmlrCUXeNgK1"
   },
   "outputs": [],
   "source": [
    "from keras import optimizers\n",
    "def large_model():\n",
    "  large_network = Sequential()\n",
    "  large_network.add(Dense(8, activation='relu', input_shape=(4,)))\n",
    "  large_network.add(Dense(8, activation='relu'))\n",
    "  large_network.add(Dense(4, activation='relu'))\n",
    "  large_network.add(Dense(3, activation='softmax'))\n",
    "  large_network.compile(optimizer= optimizers.Adam(lr=0.001, beta_1=0.9, beta_2=0.999, epsilon=1e-8), loss='categorical_crossentropy' , metrics=[\"accuracy\"])\n",
    "  return large_network\n",
    "  "
   ]
  },
  {
   "cell_type": "markdown",
   "metadata": {
    "colab_type": "text",
    "id": "vNq6aurb1fyN"
   },
   "source": [
    "# **Now run the model**"
   ]
  },
  {
   "cell_type": "code",
   "execution_count": 0,
   "metadata": {
    "colab": {
     "base_uri": "https://localhost:8080/",
     "height": 35
    },
    "colab_type": "code",
    "id": "CnQi5qorNgPQ",
    "outputId": "7d3e3163-410c-47c5-ac8b-83bfb51821f8"
   },
   "outputs": [
    {
     "name": "stdout",
     "output_type": "stream",
     "text": [
      "Large_Accuracy: 84.666667%(24.413111%)\n"
     ]
    }
   ],
   "source": [
    "estimator = KerasClassifier(build_fn = large_model , epochs = 200 , batch_size = 5 , verbose = 0 )\n",
    "kfold = KFold(n_splits = 10 , shuffle = True , random_state = seed)\n",
    "results = cross_val_score(estimator , x , dummy_y , cv = kfold)\n",
    "print(\"Large_Accuracy: %2f%%(%2f%%)\"%(results.mean()*100,results.std()*100))"
   ]
  },
  {
   "cell_type": "markdown",
   "metadata": {
    "colab_type": "text",
    "id": "Oif2wGbw1vsB"
   },
   "source": [
    "# **Build Model that overfit**"
   ]
  },
  {
   "cell_type": "code",
   "execution_count": 0,
   "metadata": {
    "colab": {},
    "colab_type": "code",
    "id": "Jd5RZwwQZVO9"
   },
   "outputs": [],
   "source": [
    "from keras import optimizers\n",
    "def overfit_model():\n",
    "  network = Sequential()\n",
    "  network.add(Dense(12, activation='relu', input_shape=(4,)))\n",
    "  network.add(Dense(10, activation='relu'))\n",
    "  network.add(Dense(8, activation='relu'))\n",
    "  network.add(Dense(3, activation='softmax'))\n",
    "  network.compile(optimizer= optimizers.Adam(lr=0.001, beta_1=0.9, beta_2=0.999, epsilon=1e-8), loss='categorical_crossentropy' , metrics=[\"accuracy\"])\n",
    "  return network\n",
    "  "
   ]
  },
  {
   "cell_type": "markdown",
   "metadata": {
    "colab_type": "text",
    "id": "8g-Idgbp15tz"
   },
   "source": [
    "# **Run As always**"
   ]
  },
  {
   "cell_type": "code",
   "execution_count": 0,
   "metadata": {
    "colab": {},
    "colab_type": "code",
    "id": "GxYjBrKIZVW4"
   },
   "outputs": [],
   "source": [
    "estimator = KerasClassifier(build_fn = overfit_model , epochs = 300, batch_size = 5 , verbose = 0 )\n",
    "kfold = KFold(n_splits = 10 , shuffle = True , random_state =\n",
    " seed)\n",
    "results = cross_val_score(estimator , x , dummy_y , cv = kfold)\n",
    "print(\"Accuracy: %2f%%(%2f%%)\"%(results.mean()*100,results.std()*100))"
   ]
  },
  {
   "cell_type": "markdown",
   "metadata": {
    "colab_type": "text",
    "id": "q7GpvQys2Aej"
   },
   "source": [
    "# **Build model with functional API**"
   ]
  },
  {
   "cell_type": "code",
   "execution_count": 0,
   "metadata": {
    "colab": {},
    "colab_type": "code",
    "id": "wE62t3Zoe1U-"
   },
   "outputs": [],
   "source": [
    "from keras.layers import Input, Dense\n",
    "from keras.models import Model\n",
    "def functional_model():\n",
    "  inputs = Input(shape = (4,))\n",
    "  z = Dense(8, activation='relu')(inputs)\n",
    "  outputs = Dense(3 , activation = 'softmax')(z)\n",
    "  model = Model(inputs,outputs)\n",
    "  model.compile(optimizer= optimizers.Adam(lr=0.001, beta_1=0.9, beta_2=0.999, epsilon=1e-8), loss='categorical_crossentropy', metrics=['acc'])\n",
    "  return model"
   ]
  },
  {
   "cell_type": "markdown",
   "metadata": {
    "colab_type": "text",
    "id": "cD0JDE8I2H0y"
   },
   "source": [
    "# **Run the Model**"
   ]
  },
  {
   "cell_type": "code",
   "execution_count": 0,
   "metadata": {
    "colab": {
     "base_uri": "https://localhost:8080/",
     "height": 35
    },
    "colab_type": "code",
    "id": "h_BQ8DaQd6_o",
    "outputId": "ffa97d8e-c252-4b6d-e29f-45b0ae805d3e"
   },
   "outputs": [
    {
     "name": "stdout",
     "output_type": "stream",
     "text": [
      "Accuracy: 95.333334%(4.268749%)\n"
     ]
    }
   ],
   "source": [
    "estimator = KerasClassifier(build_fn = functional_model  , epochs = 200, batch_size = 5 , verbose = 0 )\n",
    "kfold = KFold(n_splits = 10 , shuffle = True , random_state = seed)\n",
    "results = cross_val_score(estimator , x , dummy_y , cv = kfold)\n",
    "print(\"Accuracy: %2f%%(%2f%%)\"%(results.mean()*100,results.std()*100))"
   ]
  },
  {
   "cell_type": "markdown",
   "metadata": {
    "colab_type": "text",
    "id": "K8mkeSI62MFk"
   },
   "source": [
    "# **Build Model with Model subclassing**"
   ]
  },
  {
   "cell_type": "code",
   "execution_count": 1,
   "metadata": {
    "colab": {},
    "colab_type": "code",
    "id": "sok-GF0AeCVY"
   },
   "outputs": [],
   "source": [
    "import tensorflow as tf\n",
    "class SubclassModel(tf.keras.Model):\n",
    "    def __init__(self):\n",
    "        super(SubclassModel,self).__init__()\n",
    "        self.dense1= tf.keras.layers.Dense(8,activation=tf.nn.relu)\n",
    "        self.dense2=tf.keras.layers.Dense(6,activation=tf.nn.relu)\n",
    "        self.dense3= tf.keras.layers.Dense(3,activation=tf.nn.softmax)\n",
    "    def call(self,inputs):\n",
    "        x=self.dense1(inputs)\n",
    "        x=self.dense2(x)\n",
    "        return self.dense3(x)\n",
    "def finalModel():\n",
    "    model=SubclassModel()\n",
    "    model.compile(loss='categorical_crossentropy', optimizer='adam', metrics=['accuracy'])\n",
    "    return model\n",
    "\n",
    "\n"
   ]
  },
  {
   "cell_type": "markdown",
   "metadata": {
    "colab_type": "text",
    "id": "R1XStz4y2RO8"
   },
   "source": [
    "# **Runnn**"
   ]
  },
  {
   "cell_type": "code",
   "execution_count": 2,
   "metadata": {
    "colab": {
     "base_uri": "https://localhost:8080/",
     "height": 35
    },
    "colab_type": "code",
    "id": "3Mk4A1WgGi6i",
    "outputId": "f92f2a74-fe2a-4b8f-a331-19a029b70ba0"
   },
   "outputs": [
    {
     "ename": "NameError",
     "evalue": "name 'KerasClassifier' is not defined",
     "output_type": "error",
     "traceback": [
      "\u001b[1;31m---------------------------------------------------------------------------\u001b[0m",
      "\u001b[1;31mNameError\u001b[0m                                 Traceback (most recent call last)",
      "\u001b[1;32m<ipython-input-2-afb106e2bf55>\u001b[0m in \u001b[0;36m<module>\u001b[1;34m\u001b[0m\n\u001b[1;32m----> 1\u001b[1;33m \u001b[0mestimator\u001b[0m \u001b[1;33m=\u001b[0m \u001b[0mKerasClassifier\u001b[0m\u001b[1;33m(\u001b[0m\u001b[0mbuild_fn\u001b[0m \u001b[1;33m=\u001b[0m \u001b[0mfinalModel\u001b[0m  \u001b[1;33m,\u001b[0m \u001b[0mepochs\u001b[0m \u001b[1;33m=\u001b[0m \u001b[1;36m200\u001b[0m\u001b[1;33m,\u001b[0m \u001b[0mbatch_size\u001b[0m \u001b[1;33m=\u001b[0m \u001b[1;36m5\u001b[0m \u001b[1;33m,\u001b[0m \u001b[0mverbose\u001b[0m \u001b[1;33m=\u001b[0m \u001b[1;36m0\u001b[0m \u001b[1;33m)\u001b[0m\u001b[1;33m\u001b[0m\u001b[1;33m\u001b[0m\u001b[0m\n\u001b[0m\u001b[0;32m      2\u001b[0m \u001b[0mkfold\u001b[0m \u001b[1;33m=\u001b[0m \u001b[0mKFold\u001b[0m\u001b[1;33m(\u001b[0m\u001b[0mn_splits\u001b[0m \u001b[1;33m=\u001b[0m \u001b[1;36m10\u001b[0m \u001b[1;33m,\u001b[0m \u001b[0mshuffle\u001b[0m \u001b[1;33m=\u001b[0m \u001b[1;32mTrue\u001b[0m \u001b[1;33m,\u001b[0m \u001b[0mrandom_state\u001b[0m \u001b[1;33m=\u001b[0m \u001b[0mseed\u001b[0m\u001b[1;33m)\u001b[0m\u001b[1;33m\u001b[0m\u001b[1;33m\u001b[0m\u001b[0m\n\u001b[0;32m      3\u001b[0m \u001b[0mresults\u001b[0m \u001b[1;33m=\u001b[0m \u001b[0mcross_val_score\u001b[0m\u001b[1;33m(\u001b[0m\u001b[0mestimator\u001b[0m \u001b[1;33m,\u001b[0m \u001b[0mx\u001b[0m \u001b[1;33m,\u001b[0m \u001b[0mdummy_y\u001b[0m \u001b[1;33m,\u001b[0m \u001b[0mcv\u001b[0m \u001b[1;33m=\u001b[0m \u001b[0mkfold\u001b[0m\u001b[1;33m)\u001b[0m\u001b[1;33m\u001b[0m\u001b[1;33m\u001b[0m\u001b[0m\n\u001b[0;32m      4\u001b[0m \u001b[0mprint\u001b[0m\u001b[1;33m(\u001b[0m\u001b[1;34m\"Accuracy: %2f%%(%2f%%)\"\u001b[0m\u001b[1;33m%\u001b[0m\u001b[1;33m(\u001b[0m\u001b[0mresults\u001b[0m\u001b[1;33m.\u001b[0m\u001b[0mmean\u001b[0m\u001b[1;33m(\u001b[0m\u001b[1;33m)\u001b[0m\u001b[1;33m*\u001b[0m\u001b[1;36m100\u001b[0m\u001b[1;33m,\u001b[0m\u001b[0mresults\u001b[0m\u001b[1;33m.\u001b[0m\u001b[0mstd\u001b[0m\u001b[1;33m(\u001b[0m\u001b[1;33m)\u001b[0m\u001b[1;33m*\u001b[0m\u001b[1;36m100\u001b[0m\u001b[1;33m)\u001b[0m\u001b[1;33m)\u001b[0m\u001b[1;33m\u001b[0m\u001b[1;33m\u001b[0m\u001b[0m\n",
      "\u001b[1;31mNameError\u001b[0m: name 'KerasClassifier' is not defined"
     ]
    }
   ],
   "source": [
    "estimator = KerasClassifier(build_fn = finalModel  , epochs = 200, batch_size = 5 , verbose = 0 )\n",
    "kfold = KFold(n_splits = 10 , shuffle = True , random_state = seed)\n",
    "results = cross_val_score(estimator , x , dummy_y , cv = kfold)\n",
    "print(\"Accuracy: %2f%%(%2f%%)\"%(results.mean()*100,results.std()*100))"
   ]
  },
  {
   "cell_type": "markdown",
   "metadata": {
    "colab_type": "text",
    "id": "rp7JXdi92a2D"
   },
   "source": [
    "# **Build Model from scratch without Scikit Learn**"
   ]
  },
  {
   "cell_type": "code",
   "execution_count": 0,
   "metadata": {
    "colab": {
     "base_uri": "https://localhost:8080/",
     "height": 2781
    },
    "colab_type": "code",
    "id": "ebbYwZDVFpay",
    "outputId": "4148deb3-bf29-46e2-e0dc-93e13053b08b"
   },
   "outputs": [
    {
     "name": "stdout",
     "output_type": "stream",
     "text": [
      "[[1. 0. 0.]\n",
      " [0. 1. 0.]\n",
      " [0. 1. 0.]\n",
      " [1. 0. 0.]\n",
      " [0. 0. 1.]\n",
      " [0. 0. 1.]\n",
      " [1. 0. 0.]\n",
      " [0. 1. 0.]\n",
      " [0. 1. 0.]\n",
      " [0. 1. 0.]\n",
      " [1. 0. 0.]\n",
      " [0. 1. 0.]\n",
      " [0. 0. 1.]\n",
      " [0. 0. 1.]\n",
      " [1. 0. 0.]\n",
      " [0. 0. 1.]\n",
      " [0. 0. 1.]\n",
      " [0. 1. 0.]\n",
      " [1. 0. 0.]\n",
      " [0. 1. 0.]\n",
      " [1. 0. 0.]\n",
      " [0. 0. 1.]\n",
      " [0. 0. 1.]\n",
      " [1. 0. 0.]\n",
      " [1. 0. 0.]\n",
      " [1. 0. 0.]\n",
      " [0. 1. 0.]\n",
      " [0. 0. 1.]\n",
      " [0. 0. 1.]\n",
      " [0. 0. 1.]\n",
      " [0. 0. 1.]\n",
      " [0. 1. 0.]\n",
      " [0. 0. 1.]\n",
      " [0. 1. 0.]\n",
      " [1. 0. 0.]\n",
      " [0. 1. 0.]\n",
      " [1. 0. 0.]\n",
      " [0. 0. 1.]\n",
      " [0. 0. 1.]\n",
      " [0. 0. 1.]\n",
      " [0. 0. 1.]\n",
      " [1. 0. 0.]\n",
      " [0. 0. 1.]\n",
      " [1. 0. 0.]\n",
      " [1. 0. 0.]\n",
      " [1. 0. 0.]\n",
      " [0. 1. 0.]\n",
      " [0. 0. 1.]\n",
      " [0. 0. 1.]\n",
      " [0. 0. 1.]\n",
      " [0. 1. 0.]\n",
      " [1. 0. 0.]\n",
      " [1. 0. 0.]\n",
      " [0. 0. 1.]\n",
      " [1. 0. 0.]\n",
      " [1. 0. 0.]\n",
      " [0. 0. 1.]\n",
      " [1. 0. 0.]\n",
      " [0. 1. 0.]\n",
      " [0. 0. 1.]\n",
      " [0. 0. 1.]\n",
      " [0. 1. 0.]\n",
      " [0. 0. 1.]\n",
      " [0. 0. 1.]\n",
      " [0. 1. 0.]\n",
      " [1. 0. 0.]\n",
      " [1. 0. 0.]\n",
      " [0. 1. 0.]\n",
      " [0. 0. 1.]\n",
      " [0. 0. 1.]\n",
      " [1. 0. 0.]\n",
      " [0. 1. 0.]\n",
      " [0. 0. 1.]\n",
      " [1. 0. 0.]\n",
      " [1. 0. 0.]\n",
      " [0. 1. 0.]\n",
      " [0. 1. 0.]\n",
      " [0. 0. 1.]\n",
      " [1. 0. 0.]\n",
      " [0. 0. 1.]\n",
      " [0. 1. 0.]\n",
      " [0. 0. 1.]\n",
      " [0. 1. 0.]\n",
      " [0. 0. 1.]\n",
      " [0. 1. 0.]\n",
      " [0. 0. 1.]\n",
      " [0. 1. 0.]\n",
      " [0. 1. 0.]\n",
      " [0. 1. 0.]\n",
      " [1. 0. 0.]\n",
      " [0. 1. 0.]\n",
      " [0. 0. 1.]\n",
      " [1. 0. 0.]\n",
      " [1. 0. 0.]\n",
      " [0. 0. 1.]\n",
      " [1. 0. 0.]\n",
      " [1. 0. 0.]\n",
      " [1. 0. 0.]\n",
      " [0. 1. 0.]\n",
      " [1. 0. 0.]\n",
      " [0. 1. 0.]\n",
      " [1. 0. 0.]\n",
      " [1. 0. 0.]\n",
      " [0. 1. 0.]\n",
      " [0. 1. 0.]\n",
      " [1. 0. 0.]\n",
      " [0. 1. 0.]\n",
      " [0. 0. 1.]\n",
      " [0. 0. 1.]\n",
      " [1. 0. 0.]\n",
      " [1. 0. 0.]\n",
      " [1. 0. 0.]\n",
      " [1. 0. 0.]\n",
      " [0. 1. 0.]\n",
      " [0. 0. 1.]\n",
      " [0. 0. 1.]\n",
      " [1. 0. 0.]\n",
      " [0. 1. 0.]\n",
      " [0. 1. 0.]\n",
      " [1. 0. 0.]\n",
      " [1. 0. 0.]\n",
      " [0. 1. 0.]\n",
      " [0. 1. 0.]\n",
      " [0. 1. 0.]\n",
      " [1. 0. 0.]\n",
      " [0. 0. 1.]\n",
      " [0. 1. 0.]\n",
      " [0. 0. 1.]\n",
      " [0. 0. 1.]\n",
      " [0. 0. 1.]\n",
      " [0. 1. 0.]\n",
      " [0. 1. 0.]\n",
      " [0. 0. 1.]\n",
      " [0. 1. 0.]\n",
      " [0. 0. 1.]\n",
      " [1. 0. 0.]\n",
      " [1. 0. 0.]\n",
      " [0. 0. 1.]\n",
      " [1. 0. 0.]\n",
      " [0. 0. 1.]\n",
      " [0. 1. 0.]\n",
      " [0. 0. 1.]\n",
      " [0. 1. 0.]\n",
      " [0. 1. 0.]\n",
      " [0. 1. 0.]\n",
      " [1. 0. 0.]\n",
      " [1. 0. 0.]\n",
      " [0. 1. 0.]\n",
      " [0. 1. 0.]\n",
      " [0. 1. 0.]]\n",
      "float32\n",
      "(100, 3)\n"
     ]
    }
   ],
   "source": [
    "complete_data = dataset.copy()\n",
    "np.random.shuffle(complete_data)\n",
    "data = complete_data[:,0:4].astype('float32')\n",
    "labels = complete_data[:,4]\n",
    "le = LabelEncoder()\n",
    "le.fit(labels)\n",
    "encode_labels = le.transform(labels).astype('float32')\n",
    "hot_encode_labels = np_utils.to_categorical(encode_labels)\n",
    "print(hot_encode_labels)\n",
    "print(data.dtype)\n",
    "train_dataset = data[:100]\n",
    "test_dataset = data[100:]\n",
    "train_label = hot_encode_labels[:100]\n",
    "test_label = hot_encode_labels[100:]\n",
    "print(train_label.shape)\n"
   ]
  },
  {
   "cell_type": "code",
   "execution_count": 0,
   "metadata": {
    "colab": {},
    "colab_type": "code",
    "id": "8IgSPPbbLqsG"
   },
   "outputs": [],
   "source": [
    "def build_final_model():\n",
    "  network = Sequential()\n",
    "  network.add(Dense(4, activation='relu', input_shape=(4,)))\n",
    "  network.add(Dense(3, activation='softmax'))\n",
    "  network.compile(optimizer= optimizers.Adam(lr=0.001, beta_1=0.9, beta_2=0.999, epsilon=1e-8), loss='categorical_crossentropy' , metrics=[\"accuracy\"])\n",
    "  return network\n",
    "  "
   ]
  },
  {
   "cell_type": "code",
   "execution_count": 0,
   "metadata": {
    "colab": {
     "base_uri": "https://localhost:8080/",
     "height": 163
    },
    "colab_type": "code",
    "id": "lWQW5HIMNMwl",
    "outputId": "1afcd32a-dbb5-4b92-ffd3-562024dbee7c"
   },
   "outputs": [
    {
     "name": "stdout",
     "output_type": "stream",
     "text": [
      "processing fold # 0\n",
      "0.3199999928474426\n",
      "processing fold # 1\n",
      "0.2800000011920929\n",
      "processing fold # 2\n",
      "1.0\n",
      "processing fold # 3\n",
      "0.9599999785423279\n"
     ]
    }
   ],
   "source": [
    "k=4\n",
    "num_val_samples = len(train_dataset) // k\n",
    "num_epochs = 200\n",
    "\n",
    "for i in range(k):\n",
    "  print('processing fold #', i)\n",
    "  val_data = train_dataset[i * num_val_samples: (i + 1) * num_val_samples]\n",
    "  val_labels = train_label[i * num_val_samples: (i + 1) * num_val_samples]\n",
    "  partial_train_data = np.concatenate(\n",
    "      [train_dataset[:i * num_val_samples],train_dataset[(i + 1) * num_val_samples:]],axis=0)\n",
    "  partial_train_labels = np.concatenate(\n",
    "      [train_label[:i * num_val_samples],\n",
    "       train_label[(i + 1) * num_val_samples:]])\n",
    "  model = build_final_model()\n",
    "  model.fit(partial_train_data, partial_train_labels , validation_data=(val_data, val_labels), epochs=num_epochs, batch_size=1, verbose=0)\n",
    "  loss , acc = model.evaluate(val_data, val_labels , verbose=0)\n",
    "  print(acc)\n",
    "  \n",
    "  "
   ]
  },
  {
   "cell_type": "code",
   "execution_count": 0,
   "metadata": {
    "colab": {
     "base_uri": "https://localhost:8080/",
     "height": 3672
    },
    "colab_type": "code",
    "id": "DUMhu2jiG2BA",
    "outputId": "df2b1fd9-dff4-46b8-8776-0e6fe9f74ee5",
    "scrolled": false
   },
   "outputs": [
    {
     "name": "stdout",
     "output_type": "stream",
     "text": [
      "Epoch 1/100\n",
      "100/100 [==============================] - 3s 28ms/step - loss: 1.4409 - acc: 0.2900\n",
      "Epoch 2/100\n",
      "100/100 [==============================] - 0s 695us/step - loss: 1.3117 - acc: 0.2900\n",
      "Epoch 3/100\n",
      "100/100 [==============================] - 0s 686us/step - loss: 1.2140 - acc: 0.2900\n",
      "Epoch 4/100\n",
      "100/100 [==============================] - 0s 755us/step - loss: 1.1287 - acc: 0.2900\n",
      "Epoch 5/100\n",
      "100/100 [==============================] - 0s 717us/step - loss: 1.0637 - acc: 0.3200\n",
      "Epoch 6/100\n",
      "100/100 [==============================] - 0s 608us/step - loss: 1.0102 - acc: 0.4300\n",
      "Epoch 7/100\n",
      "100/100 [==============================] - 0s 656us/step - loss: 0.9710 - acc: 0.5100\n",
      "Epoch 8/100\n",
      "100/100 [==============================] - 0s 652us/step - loss: 0.9448 - acc: 0.5400\n",
      "Epoch 9/100\n",
      "100/100 [==============================] - 0s 706us/step - loss: 0.9245 - acc: 0.5400\n",
      "Epoch 10/100\n",
      "100/100 [==============================] - 0s 530us/step - loss: 0.9090 - acc: 0.4500\n",
      "Epoch 11/100\n",
      "100/100 [==============================] - 0s 565us/step - loss: 0.8938 - acc: 0.4400\n",
      "Epoch 12/100\n",
      "100/100 [==============================] - 0s 794us/step - loss: 0.8794 - acc: 0.4300\n",
      "Epoch 13/100\n",
      "100/100 [==============================] - 0s 561us/step - loss: 0.8665 - acc: 0.4000\n",
      "Epoch 14/100\n",
      "100/100 [==============================] - 0s 690us/step - loss: 0.8539 - acc: 0.4400\n",
      "Epoch 15/100\n",
      "100/100 [==============================] - 0s 531us/step - loss: 0.8394 - acc: 0.4900\n",
      "Epoch 16/100\n",
      "100/100 [==============================] - 0s 552us/step - loss: 0.8266 - acc: 0.4900\n",
      "Epoch 17/100\n",
      "100/100 [==============================] - 0s 722us/step - loss: 0.8148 - acc: 0.5000\n",
      "Epoch 18/100\n",
      "100/100 [==============================] - 0s 728us/step - loss: 0.8021 - acc: 0.5300\n",
      "Epoch 19/100\n",
      "100/100 [==============================] - 0s 607us/step - loss: 0.7922 - acc: 0.5500\n",
      "Epoch 20/100\n",
      "100/100 [==============================] - 0s 676us/step - loss: 0.7777 - acc: 0.5800\n",
      "Epoch 21/100\n",
      "100/100 [==============================] - 0s 749us/step - loss: 0.7662 - acc: 0.6300\n",
      "Epoch 22/100\n",
      "100/100 [==============================] - 0s 714us/step - loss: 0.7558 - acc: 0.6500\n",
      "Epoch 23/100\n",
      "100/100 [==============================] - 0s 723us/step - loss: 0.7428 - acc: 0.7200\n",
      "Epoch 24/100\n",
      "100/100 [==============================] - 0s 699us/step - loss: 0.7322 - acc: 0.8000\n",
      "Epoch 25/100\n",
      "100/100 [==============================] - 0s 617us/step - loss: 0.7204 - acc: 0.8100\n",
      "Epoch 26/100\n",
      "100/100 [==============================] - 0s 767us/step - loss: 0.7094 - acc: 0.8200\n",
      "Epoch 27/100\n",
      "100/100 [==============================] - 0s 744us/step - loss: 0.6975 - acc: 0.8400\n",
      "Epoch 28/100\n",
      "100/100 [==============================] - 0s 746us/step - loss: 0.6868 - acc: 0.8000\n",
      "Epoch 29/100\n",
      "100/100 [==============================] - 0s 715us/step - loss: 0.6751 - acc: 0.8200\n",
      "Epoch 30/100\n",
      "100/100 [==============================] - 0s 773us/step - loss: 0.6641 - acc: 0.8300\n",
      "Epoch 31/100\n",
      "100/100 [==============================] - 0s 702us/step - loss: 0.6549 - acc: 0.8700\n",
      "Epoch 32/100\n",
      "100/100 [==============================] - 0s 720us/step - loss: 0.6438 - acc: 0.8300\n",
      "Epoch 33/100\n",
      "100/100 [==============================] - 0s 680us/step - loss: 0.6327 - acc: 0.8500\n",
      "Epoch 34/100\n",
      "100/100 [==============================] - 0s 663us/step - loss: 0.6209 - acc: 0.8500\n",
      "Epoch 35/100\n",
      "100/100 [==============================] - 0s 544us/step - loss: 0.6106 - acc: 0.8700\n",
      "Epoch 36/100\n",
      "100/100 [==============================] - 0s 693us/step - loss: 0.6004 - acc: 0.8900\n",
      "Epoch 37/100\n",
      "100/100 [==============================] - 0s 596us/step - loss: 0.5898 - acc: 0.8900\n",
      "Epoch 38/100\n",
      "100/100 [==============================] - 0s 663us/step - loss: 0.5792 - acc: 0.8900\n",
      "Epoch 39/100\n",
      "100/100 [==============================] - 0s 665us/step - loss: 0.5699 - acc: 0.8700\n",
      "Epoch 40/100\n",
      "100/100 [==============================] - 0s 538us/step - loss: 0.5597 - acc: 0.8900\n",
      "Epoch 41/100\n",
      "100/100 [==============================] - 0s 537us/step - loss: 0.5497 - acc: 0.8900\n",
      "Epoch 42/100\n",
      "100/100 [==============================] - 0s 641us/step - loss: 0.5403 - acc: 0.8900\n",
      "Epoch 43/100\n",
      "100/100 [==============================] - 0s 488us/step - loss: 0.5302 - acc: 0.8900\n",
      "Epoch 44/100\n",
      "100/100 [==============================] - 0s 639us/step - loss: 0.5222 - acc: 0.9000\n",
      "Epoch 45/100\n",
      "100/100 [==============================] - 0s 524us/step - loss: 0.5115 - acc: 0.9000\n",
      "Epoch 46/100\n",
      "100/100 [==============================] - 0s 576us/step - loss: 0.5043 - acc: 0.8900\n",
      "Epoch 47/100\n",
      "100/100 [==============================] - 0s 517us/step - loss: 0.4953 - acc: 0.9100\n",
      "Epoch 48/100\n",
      "100/100 [==============================] - 0s 582us/step - loss: 0.4861 - acc: 0.9100\n",
      "Epoch 49/100\n",
      "100/100 [==============================] - 0s 566us/step - loss: 0.4779 - acc: 0.9100\n",
      "Epoch 50/100\n",
      "100/100 [==============================] - 0s 757us/step - loss: 0.4707 - acc: 0.9100\n",
      "Epoch 51/100\n",
      "100/100 [==============================] - 0s 709us/step - loss: 0.4620 - acc: 0.9000\n",
      "Epoch 52/100\n",
      "100/100 [==============================] - 0s 722us/step - loss: 0.4569 - acc: 0.9000\n",
      "Epoch 53/100\n",
      "100/100 [==============================] - 0s 695us/step - loss: 0.4517 - acc: 0.8900\n",
      "Epoch 54/100\n",
      "100/100 [==============================] - 0s 818us/step - loss: 0.4418 - acc: 0.9100\n",
      "Epoch 55/100\n",
      "100/100 [==============================] - 0s 599us/step - loss: 0.4340 - acc: 0.9100\n",
      "Epoch 56/100\n",
      "100/100 [==============================] - 0s 711us/step - loss: 0.4267 - acc: 0.9100\n",
      "Epoch 57/100\n",
      "100/100 [==============================] - 0s 623us/step - loss: 0.4203 - acc: 0.9200\n",
      "Epoch 58/100\n",
      "100/100 [==============================] - 0s 530us/step - loss: 0.4138 - acc: 0.9100\n",
      "Epoch 59/100\n",
      "100/100 [==============================] - 0s 748us/step - loss: 0.4088 - acc: 0.9100\n",
      "Epoch 60/100\n",
      "100/100 [==============================] - 0s 556us/step - loss: 0.4023 - acc: 0.9200\n",
      "Epoch 61/100\n",
      "100/100 [==============================] - 0s 564us/step - loss: 0.3966 - acc: 0.9200\n",
      "Epoch 62/100\n",
      "100/100 [==============================] - 0s 759us/step - loss: 0.3913 - acc: 0.9200\n",
      "Epoch 63/100\n",
      "100/100 [==============================] - 0s 802us/step - loss: 0.3865 - acc: 0.9100\n",
      "Epoch 64/100\n",
      "100/100 [==============================] - 0s 713us/step - loss: 0.3809 - acc: 0.9100\n",
      "Epoch 65/100\n",
      "100/100 [==============================] - 0s 755us/step - loss: 0.3752 - acc: 0.9200\n",
      "Epoch 66/100\n",
      "100/100 [==============================] - 0s 789us/step - loss: 0.3708 - acc: 0.9200\n",
      "Epoch 67/100\n",
      "100/100 [==============================] - 0s 842us/step - loss: 0.3655 - acc: 0.9200\n",
      "Epoch 68/100\n",
      "100/100 [==============================] - 0s 739us/step - loss: 0.3617 - acc: 0.9200\n",
      "Epoch 69/100\n",
      "100/100 [==============================] - 0s 539us/step - loss: 0.3564 - acc: 0.9300\n",
      "Epoch 70/100\n",
      "100/100 [==============================] - 0s 542us/step - loss: 0.3518 - acc: 0.9400\n",
      "Epoch 71/100\n",
      "100/100 [==============================] - 0s 669us/step - loss: 0.3480 - acc: 0.9300\n",
      "Epoch 72/100\n",
      "100/100 [==============================] - 0s 504us/step - loss: 0.3432 - acc: 0.9300\n",
      "Epoch 73/100\n",
      "100/100 [==============================] - 0s 596us/step - loss: 0.3392 - acc: 0.9400\n",
      "Epoch 74/100\n",
      "100/100 [==============================] - 0s 708us/step - loss: 0.3355 - acc: 0.9300\n",
      "Epoch 75/100\n",
      "100/100 [==============================] - 0s 683us/step - loss: 0.3312 - acc: 0.9300\n",
      "Epoch 76/100\n",
      "100/100 [==============================] - 0s 692us/step - loss: 0.3277 - acc: 0.9500\n",
      "Epoch 77/100\n",
      "100/100 [==============================] - 0s 763us/step - loss: 0.3239 - acc: 0.9400\n",
      "Epoch 78/100\n",
      "100/100 [==============================] - 0s 684us/step - loss: 0.3206 - acc: 0.9400\n",
      "Epoch 79/100\n",
      "100/100 [==============================] - 0s 783us/step - loss: 0.3170 - acc: 0.9400\n",
      "Epoch 80/100\n",
      "100/100 [==============================] - 0s 753us/step - loss: 0.3129 - acc: 0.9500\n",
      "Epoch 81/100\n",
      "100/100 [==============================] - 0s 782us/step - loss: 0.3090 - acc: 0.9400\n",
      "Epoch 82/100\n",
      "100/100 [==============================] - 0s 745us/step - loss: 0.3060 - acc: 0.9400\n",
      "Epoch 83/100\n",
      "100/100 [==============================] - 0s 843us/step - loss: 0.3031 - acc: 0.9500\n",
      "Epoch 84/100\n",
      "100/100 [==============================] - 0s 785us/step - loss: 0.2997 - acc: 0.9400\n",
      "Epoch 85/100\n",
      "100/100 [==============================] - 0s 747us/step - loss: 0.2958 - acc: 0.9400\n",
      "Epoch 86/100\n",
      "100/100 [==============================] - 0s 535us/step - loss: 0.2957 - acc: 0.9400\n",
      "Epoch 87/100\n",
      "100/100 [==============================] - 0s 569us/step - loss: 0.2894 - acc: 0.9500\n",
      "Epoch 88/100\n",
      "100/100 [==============================] - 0s 764us/step - loss: 0.2878 - acc: 0.9400\n",
      "Epoch 89/100\n",
      "100/100 [==============================] - 0s 544us/step - loss: 0.2851 - acc: 0.9700\n",
      "Epoch 90/100\n",
      "100/100 [==============================] - 0s 667us/step - loss: 0.2844 - acc: 0.9500\n",
      "Epoch 91/100\n",
      "100/100 [==============================] - 0s 578us/step - loss: 0.2778 - acc: 0.9600\n",
      "Epoch 92/100\n",
      "100/100 [==============================] - 0s 604us/step - loss: 0.2757 - acc: 0.9600\n",
      "Epoch 93/100\n",
      "100/100 [==============================] - 0s 716us/step - loss: 0.2719 - acc: 0.9600\n",
      "Epoch 94/100\n",
      "100/100 [==============================] - 0s 819us/step - loss: 0.2708 - acc: 0.9600\n",
      "Epoch 95/100\n",
      "100/100 [==============================] - 0s 652us/step - loss: 0.2672 - acc: 0.9600\n",
      "Epoch 96/100\n",
      "100/100 [==============================] - 0s 675us/step - loss: 0.2647 - acc: 0.9700\n",
      "Epoch 97/100\n",
      "100/100 [==============================] - 0s 693us/step - loss: 0.2615 - acc: 0.9600\n",
      "Epoch 98/100\n",
      "100/100 [==============================] - 0s 631us/step - loss: 0.2587 - acc: 0.9700\n",
      "Epoch 99/100\n",
      "100/100 [==============================] - 0s 750us/step - loss: 0.2569 - acc: 0.9600\n",
      "Epoch 100/100\n",
      "100/100 [==============================] - 0s 643us/step - loss: 0.2532 - acc: 0.9600\n"
     ]
    },
    {
     "data": {
      "text/plain": [
       "<keras.callbacks.History at 0x7f6f62b55c18>"
      ]
     },
     "execution_count": 23,
     "metadata": {
      "tags": []
     },
     "output_type": "execute_result"
    }
   ],
   "source": [
    "def final_model():\n",
    "  network = Sequential()\n",
    "  network.add(Dense(4, activation='relu', input_shape=(4,)))\n",
    "  network.add(Dense(3, activation='softmax'))\n",
    "  network.compile(optimizer= optimizers.Adam(lr=0.001, beta_1=0.9, beta_2=0.999, epsilon=1e-8), loss='categorical_crossentropy' , metrics=[\"accuracy\"])\n",
    "  return network\n",
    "\n",
    "model = final_model()\n",
    "model.fit(train_dataset, train_label , epochs=100, batch_size=5 , verbose=1)"
   ]
  },
  {
   "cell_type": "code",
   "execution_count": 0,
   "metadata": {
    "colab": {
     "base_uri": "https://localhost:8080/",
     "height": 54
    },
    "colab_type": "code",
    "id": "XkAY0mU3HEy0",
    "outputId": "9d1ca143-c26e-4c08-de90-c4de5b2fc3d3"
   },
   "outputs": [
    {
     "name": "stdout",
     "output_type": "stream",
     "text": [
      "50/50 [==============================] - 1s 22ms/step\n"
     ]
    },
    {
     "data": {
      "text/plain": [
       "[0.3473368775844574, 0.94]"
      ]
     },
     "execution_count": 24,
     "metadata": {
      "tags": []
     },
     "output_type": "execute_result"
    }
   ],
   "source": [
    "history = model.evaluate(test_dataset, test_label)\n",
    "history"
   ]
  }
 ],
 "metadata": {
  "colab": {
   "collapsed_sections": [],
   "name": "Iris_project_2",
   "provenance": [],
   "version": "0.3.2"
  },
  "kernelspec": {
   "display_name": "Python 3",
   "language": "python",
   "name": "python3"
  },
  "language_info": {
   "codemirror_mode": {
    "name": "ipython",
    "version": 3
   },
   "file_extension": ".py",
   "mimetype": "text/x-python",
   "name": "python",
   "nbconvert_exporter": "python",
   "pygments_lexer": "ipython3",
   "version": "3.7.1"
  }
 },
 "nbformat": 4,
 "nbformat_minor": 1
}
